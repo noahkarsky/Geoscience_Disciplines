{
  "nbformat": 4,
  "nbformat_minor": 0,
  "metadata": {
    "colab": {
      "name": "Geologic branches 2.ipynb",
      "provenance": [],
      "collapsed_sections": [],
      "mount_file_id": "1OlpxLxHC1iuhiJ--vmRflRhfpHJYyWC-",
      "authorship_tag": "ABX9TyPCKmtSAEQLr5wYzfKXD5Fe",
      "include_colab_link": true
    },
    "kernelspec": {
      "name": "python3",
      "display_name": "Python 3"
    }
  },
  "cells": [
    {
      "cell_type": "markdown",
      "metadata": {
        "id": "view-in-github",
        "colab_type": "text"
      },
      "source": [
        "<a href=\"https://colab.research.google.com/github/noahkarsky/Geoscience_Disciplines/blob/master/Geologic_branches_2.ipynb\" target=\"_parent\"><img src=\"https://colab.research.google.com/assets/colab-badge.svg\" alt=\"Open In Colab\"/></a>"
      ]
    },
    {
      "cell_type": "code",
      "metadata": {
        "id": "drq8XEIHcpOx"
      },
      "source": [
        "pip install umap-learn[plot]"
      ],
      "execution_count": null,
      "outputs": []
    },
    {
      "cell_type": "code",
      "metadata": {
        "id": "zMNmv9d1AIyo"
      },
      "source": [
        "pip install hdbscan"
      ],
      "execution_count": null,
      "outputs": []
    },
    {
      "cell_type": "code",
      "metadata": {
        "id": "wbR7Uvid3oq3"
      },
      "source": [
        "import pandas as pd\n",
        "import numpy as np\n",
        "import plotly.express as px\n",
        "import umap\n",
        "import umap.plot\n",
        "import hdbscan\n",
        "from sklearn.feature_extraction.text import CountVectorizer, TfidfVectorizer\n",
        "from scipy.spatial.distance import cdist\n",
        "import sklearn.cluster as cluster\n",
        "from sklearn.metrics import adjusted_rand_score, adjusted_mutual_info_score"
      ],
      "execution_count": 4,
      "outputs": []
    },
    {
      "cell_type": "code",
      "metadata": {
        "id": "1SaubkCr7D1L",
        "outputId": "6080b78c-afd7-41d0-b11c-473d299e6b9a",
        "colab": {
          "base_uri": "https://localhost:8080/",
          "height": 87
        }
      },
      "source": [
        "import seaborn as sns\n",
        "import matplotlib.pyplot as plt\n",
        "from sklearn.metrics import silhouette_score"
      ],
      "execution_count": 5,
      "outputs": [
        {
          "output_type": "stream",
          "text": [
            "/usr/local/lib/python3.6/dist-packages/statsmodels/tools/_testing.py:19: FutureWarning:\n",
            "\n",
            "pandas.util.testing is deprecated. Use the functions in the public API at pandas.testing instead.\n",
            "\n"
          ],
          "name": "stderr"
        }
      ]
    },
    {
      "cell_type": "code",
      "metadata": {
        "id": "6dVhALaG30Gw"
      },
      "source": [
        "df = pd.read_csv(r\"https://raw.githubusercontent.com/noahkarsky/Geoscience_Disciplines/master/Parsed_wiki_data.csv\", names=[\"index\",\"related_word\",\"discipline\"],skiprows=[0])"
      ],
      "execution_count": 6,
      "outputs": []
    },
    {
      "cell_type": "code",
      "metadata": {
        "id": "YTrHPKWRYsxP",
        "outputId": "6ac07cb2-fb47-4fb4-9c9c-fcb509af8de7",
        "colab": {
          "base_uri": "https://localhost:8080/",
          "height": 197
        }
      },
      "source": [
        "df.head()"
      ],
      "execution_count": 7,
      "outputs": [
        {
          "output_type": "execute_result",
          "data": {
            "text/html": [
              "<div>\n",
              "<style scoped>\n",
              "    .dataframe tbody tr th:only-of-type {\n",
              "        vertical-align: middle;\n",
              "    }\n",
              "\n",
              "    .dataframe tbody tr th {\n",
              "        vertical-align: top;\n",
              "    }\n",
              "\n",
              "    .dataframe thead th {\n",
              "        text-align: right;\n",
              "    }\n",
              "</style>\n",
              "<table border=\"1\" class=\"dataframe\">\n",
              "  <thead>\n",
              "    <tr style=\"text-align: right;\">\n",
              "      <th></th>\n",
              "      <th>index</th>\n",
              "      <th>related_word</th>\n",
              "      <th>discipline</th>\n",
              "    </tr>\n",
              "  </thead>\n",
              "  <tbody>\n",
              "    <tr>\n",
              "      <th>0</th>\n",
              "      <td>0</td>\n",
              "      <td>Geology</td>\n",
              "      <td>Physical Geology</td>\n",
              "    </tr>\n",
              "    <tr>\n",
              "      <th>1</th>\n",
              "      <td>1</td>\n",
              "      <td>(from</td>\n",
              "      <td>Physical Geology</td>\n",
              "    </tr>\n",
              "    <tr>\n",
              "      <th>2</th>\n",
              "      <td>2</td>\n",
              "      <td>Ancient</td>\n",
              "      <td>Physical Geology</td>\n",
              "    </tr>\n",
              "    <tr>\n",
              "      <th>3</th>\n",
              "      <td>3</td>\n",
              "      <td>Greek</td>\n",
              "      <td>Physical Geology</td>\n",
              "    </tr>\n",
              "    <tr>\n",
              "      <th>4</th>\n",
              "      <td>4</td>\n",
              "      <td>γῆ,</td>\n",
              "      <td>Physical Geology</td>\n",
              "    </tr>\n",
              "  </tbody>\n",
              "</table>\n",
              "</div>"
            ],
            "text/plain": [
              "   index related_word        discipline\n",
              "0      0      Geology  Physical Geology\n",
              "1      1        (from  Physical Geology\n",
              "2      2      Ancient  Physical Geology\n",
              "3      3        Greek  Physical Geology\n",
              "4      4          γῆ,  Physical Geology"
            ]
          },
          "metadata": {
            "tags": []
          },
          "execution_count": 7
        }
      ]
    },
    {
      "cell_type": "code",
      "metadata": {
        "id": "OsAx99D530cB"
      },
      "source": [
        "#this will make each discipline into a row and the new column will be called the article_text\n",
        "df1 = df.groupby('discipline')['related_word'].apply(list).reset_index(name='article_text')\n",
        "df1['text'] = df1.article_text.astype(str).str.replace('\\[|\\]|\\'', '').str.replace(',','')"
      ],
      "execution_count": 8,
      "outputs": []
    },
    {
      "cell_type": "code",
      "metadata": {
        "id": "ovdFlbNze6DH",
        "outputId": "aa958d5a-0982-4f71-c0bd-048d52b37eaf",
        "colab": {
          "base_uri": "https://localhost:8080/",
          "height": 197
        }
      },
      "source": [
        "df1.head()"
      ],
      "execution_count": 9,
      "outputs": [
        {
          "output_type": "execute_result",
          "data": {
            "text/html": [
              "<div>\n",
              "<style scoped>\n",
              "    .dataframe tbody tr th:only-of-type {\n",
              "        vertical-align: middle;\n",
              "    }\n",
              "\n",
              "    .dataframe tbody tr th {\n",
              "        vertical-align: top;\n",
              "    }\n",
              "\n",
              "    .dataframe thead th {\n",
              "        text-align: right;\n",
              "    }\n",
              "</style>\n",
              "<table border=\"1\" class=\"dataframe\">\n",
              "  <thead>\n",
              "    <tr style=\"text-align: right;\">\n",
              "      <th></th>\n",
              "      <th>discipline</th>\n",
              "      <th>article_text</th>\n",
              "      <th>text</th>\n",
              "    </tr>\n",
              "  </thead>\n",
              "  <tbody>\n",
              "    <tr>\n",
              "      <th>0</th>\n",
              "      <td>Agricultural Meteorology</td>\n",
              "      <td>[Meteorology, branch, atmospheric, sciences, i...</td>\n",
              "      <td>Meteorology branch atmospheric sciences includ...</td>\n",
              "    </tr>\n",
              "    <tr>\n",
              "      <th>1</th>\n",
              "      <td>Applied Climatology</td>\n",
              "      <td>[Climatology, (from, Greek, κλίμα,, klima,, \"p...</td>\n",
              "      <td>Climatology (from Greek κλίμα klima \"place zon...</td>\n",
              "    </tr>\n",
              "    <tr>\n",
              "      <th>2</th>\n",
              "      <td>Applied geomorphology</td>\n",
              "      <td>[The, Chambal, geographical, cultural, region,...</td>\n",
              "      <td>The Chambal geographical cultural region north...</td>\n",
              "    </tr>\n",
              "    <tr>\n",
              "      <th>3</th>\n",
              "      <td>Archaeological Palynology</td>\n",
              "      <td>[Palynology, literally, \"study, dust\", (from, ...</td>\n",
              "      <td>Palynology literally \"study dust\" (from Greek:...</td>\n",
              "    </tr>\n",
              "    <tr>\n",
              "      <th>4</th>\n",
              "      <td>Asteroseismology</td>\n",
              "      <td>[Asteroseismology, study, oscillations, stars....</td>\n",
              "      <td>Asteroseismology study oscillations stars. nan...</td>\n",
              "    </tr>\n",
              "  </tbody>\n",
              "</table>\n",
              "</div>"
            ],
            "text/plain": [
              "                  discipline  ...                                               text\n",
              "0   Agricultural Meteorology  ...  Meteorology branch atmospheric sciences includ...\n",
              "1        Applied Climatology  ...  Climatology (from Greek κλίμα klima \"place zon...\n",
              "2      Applied geomorphology  ...  The Chambal geographical cultural region north...\n",
              "3  Archaeological Palynology  ...  Palynology literally \"study dust\" (from Greek:...\n",
              "4           Asteroseismology  ...  Asteroseismology study oscillations stars. nan...\n",
              "\n",
              "[5 rows x 3 columns]"
            ]
          },
          "metadata": {
            "tags": []
          },
          "execution_count": 9
        }
      ]
    },
    {
      "cell_type": "code",
      "metadata": {
        "id": "nkndNNyKZHQ_"
      },
      "source": [
        "vectorizer = CountVectorizer(min_df=5, stop_words='english')\n",
        "word_doc_matrix = vectorizer.fit_transform(df1.text)"
      ],
      "execution_count": 35,
      "outputs": []
    },
    {
      "cell_type": "code",
      "metadata": {
        "id": "O5YcDYHdcSVw"
      },
      "source": [
        "mapper = umap.UMAP(n_neighbors=10, metric='cosine', min_dist=0.1, random_state=42).fit_transform(word_doc_matrix)"
      ],
      "execution_count": 36,
      "outputs": []
    },
    {
      "cell_type": "code",
      "metadata": {
        "id": "mxOKY85LLUha",
        "outputId": "161450cf-2dfb-4305-dbd9-2cdcb5555f01",
        "colab": {
          "base_uri": "https://localhost:8080/",
          "height": 34
        }
      },
      "source": [
        "embedding = pd.DataFrame(mapper, columns = ['x','y'])\n",
        "embedding.shape"
      ],
      "execution_count": 37,
      "outputs": [
        {
          "output_type": "execute_result",
          "data": {
            "text/plain": [
              "(146, 2)"
            ]
          },
          "metadata": {
            "tags": []
          },
          "execution_count": 37
        }
      ]
    },
    {
      "cell_type": "code",
      "metadata": {
        "id": "OW5x4vR8t8EH"
      },
      "source": [
        "embedding['title'] = df1.discipline"
      ],
      "execution_count": 38,
      "outputs": []
    },
    {
      "cell_type": "markdown",
      "metadata": {
        "id": "KsqQ5FlbNWm_"
      },
      "source": [
        "Trying some HBDSCAN on the samples\n",
        "\n",
        "Since this is just messing around, why not try and mess around with the probabability outputs from HBDSCAN"
      ]
    },
    {
      "cell_type": "code",
      "metadata": {
        "id": "L4Yuy62_A-71",
        "outputId": "d8fd5f1a-78eb-4582-b72f-ca371deb62bb",
        "colab": {
          "base_uri": "https://localhost:8080/",
          "height": 141
        }
      },
      "source": [
        "\n",
        "clusterer = hdbscan.HDBSCAN()\n",
        "clusterer.fit(mapper)"
      ],
      "execution_count": 39,
      "outputs": [
        {
          "output_type": "execute_result",
          "data": {
            "text/plain": [
              "HDBSCAN(algorithm='best', allow_single_cluster=False, alpha=1.0,\n",
              "        approx_min_span_tree=True, cluster_selection_epsilon=0.0,\n",
              "        cluster_selection_method='eom', core_dist_n_jobs=4,\n",
              "        gen_min_span_tree=False, leaf_size=40,\n",
              "        match_reference_implementation=False, memory=Memory(location=None),\n",
              "        metric='euclidean', min_cluster_size=5, min_samples=None, p=None,\n",
              "        prediction_data=False)"
            ]
          },
          "metadata": {
            "tags": []
          },
          "execution_count": 39
        }
      ]
    },
    {
      "cell_type": "code",
      "metadata": {
        "id": "-UDXinDnvkLB"
      },
      "source": [
        "\n",
        "pal = sns.color_palette('Paired', 87)\n",
        "colors = [sns.desaturate(pal[col], sat) for col, sat in zip(clusterer.labels_,clusterer.probabilities_)]"
      ],
      "execution_count": 41,
      "outputs": []
    },
    {
      "cell_type": "code",
      "metadata": {
        "id": "y6bz9FAeGDWZ",
        "outputId": "360f2a5a-3a50-4514-f6ef-3f2688c7cc21",
        "colab": {
          "base_uri": "https://localhost:8080/",
          "height": 610
        }
      },
      "source": [
        "fig, ax = plt.subplots(figsize = (10,10))\n",
        "\n",
        "plt.scatter(embedding['x'], embedding['y'], c=colors,)"
      ],
      "execution_count": 44,
      "outputs": [
        {
          "output_type": "execute_result",
          "data": {
            "text/plain": [
              "<matplotlib.collections.PathCollection at 0x7fa0568979e8>"
            ]
          },
          "metadata": {
            "tags": []
          },
          "execution_count": 44
        },
        {
          "output_type": "display_data",
          "data": {
            "image/png": "[encoded data removed]",
            "text/plain": [
              "<Figure size 720x720 with 1 Axes>"
            ]
          },
          "metadata": {
            "tags": [],
            "needs_background": "light"
          }
        }
      ]
    },
    {
      "cell_type": "code",
      "metadata": {
        "id": "7QMyo4YWBFTD",
        "outputId": "cfc338d5-3295-4db4-822f-5e2944b7a08d",
        "colab": {
          "base_uri": "https://localhost:8080/",
          "height": 816
        }
      },
      "source": [
        "fig = px.scatter(embedding,x='x',y='y',color=clusterer.labels_,hover_data=['title'],width=800, height=800)\n",
        "fig.show()"
      ],
      "execution_count": 49,
      "outputs": [
        {
          "output_type": "display_data",
          "data": {
            "text/html": [
              "<html>\n",
              "<head><meta charset=\"utf-8\" /></head>\n",
              "<body>\n",
              "    <div>\n",
              "            <script src=\"https://cdnjs.cloudflare.com/ajax/libs/mathjax/2.7.5/MathJax.js?config=TeX-AMS-MML_SVG\"></script><script type=\"text/javascript\">if (window.MathJax) {MathJax.Hub.Config({SVG: {font: \"STIX-Web\"}});}</script>\n",
              "                <script type=\"text/javascript\">window.PlotlyConfig = {MathJaxConfig: 'local'};</script>\n",
              "        <script src=\"https://cdn.plot.ly/plotly-latest.min.js\"></script>    \n",
              "            <div id=\"9a3a8591-2f96-4e6b-b8dd-2f7142ddbae1\" class=\"plotly-graph-div\" style=\"height:800px; width:800px;\"></div>\n",
              "            <script type=\"text/javascript\">\n",
              "                \n",
              "                    window.PLOTLYENV=window.PLOTLYENV || {};\n",
              "                    \n",
              "                if (document.getElementById(\"9a3a8591-2f96-4e6b-b8dd-2f7142ddbae1\")) {\n",
              "                    Plotly.newPlot(\n",
              "                        '9a3a8591-2f96-4e6b-b8dd-2f7142ddbae1',\n",
              "                        [{\"customdata\": [[\"Agricultural Meteorology\"], [\"Applied Climatology\"], [\"Applied geomorphology\"], [\"Archaeological Palynology\"], [\"Asteroseismology\"], [\"Astrogeology\"], [\"Aviation meteorology\"], [\"Biogeomorphology and Ecogeomorphology\"], [\"Biological Oceanography\"], [\"Biostratigraphy:\"], [\"Ceramography\"], [\"Chemical Oceanography\"], [\"Chemostratigraphy\"], [\"Chronostratigraphy\"], [\"Climatic Geomorphology\"], [\"Climatolog\"], [\"Coal geology\"], [\"Coastal Geomorphology\"], [\"Cosmogony\"], [\"Crystallography\"], [\"Cyclostratigraphy\"], [\"Dendrochronology\"], [\"Dendroclimatology\"], [\"Descriptive mineralogy\"], [\"Ecohydrology\"], [\"Economic Geology\"], [\"Engineering Geology\"], [\"Engineering geomorphology\"], [\"Environmental Geochemistry\"], [\"Environmental Geology\"], [\"Environmental Meteorology\"], [\"Environmental Palynology\"], [\"Exploration Geochemistry\"], [\"Exploration Geophysics\"], [\"Field Geology\"], [\"Fluvial Geomorphology\"], [\"Forensic Seismology\"], [\"Forensic meteorology\"], [\"Forest hydrology\"], [\"Gemology or gemmology\"], [\"Geoarchaeology\"], [\"Geochemical Prospecting\"], [\"Geochemistry\"], [\"Geochronology\"], [\"Geocryology\"], [\"Geodynamics\"], [\"Geoinformatics\"], [\"Geological Oceanography\"], [\"Geomatics\"], [\"Geomorphometry\"], [\"Geophysics\"], [\"Geostatistics\"], [\"Geotectonics\"], [\"Glacial geomorphology\"], [\"Glaciology\"], [\"Gondwana Geology\"], [\"Helioseismology\"], [\"Himalayan geology\"], [\"Historical geology\"], [\"Human geomorphology\"], [\"Hydrobiology\"], [\"Hydrogeology /Geohydrology\"], [\"Hydroinformatics\"], [\"Hydrology\"], [\"Hydrometeorology\"], [\"Igneous Petrology\"], [\"Invertebrate Paleontology\"], [\"Isotope Geology\"], [\"Isotope Hydrology\"], [\"Isotope geochemistry\"], [\"Limnology\"], [\"Lithostratigraphy\"], [\"Lunar Geology\"], [\"Magnetostratigraphy\"], [\"Marine Geology\"], [\"Maritime Meteorology\"], [\"Materials Science\"], [\"Mathematical Geology\"], [\"Medical Geology\"], [\"Metamorphic Petrology\"], [\"Meteorology\"], [\"Micropaleontology\"], [\"Military Geology\"], [\"Military Meteorology\"], [\"Mineralogy\"], [\"Mining Geology\"], [\"Modern Isotope Geochemistry\"], [\"Nanogeoscience\"], [\"Neotectonics\"], [\"Nuclear Geophysics\"], [\"Nuclear Meteorology\"], [\"Oceanography\"], [\"Optical Mineralogy\"], [\"Ore Dressing and Metallurgy\"], [\"Ore Geology\"], [\"Palaeogeography\"], [\"Paleobotany\"], [\"Paleoclimatology\"], [\"Paleoecology\"], [\"Paleolimnology\"], [\"Paleontology or Palaeontology\"], [\"Paleopedology\"], [\"Paleophycology\"], [\"Paleoseismology\"], [\"Palynology\"], [\"Pedology\"], [\"Periglacial Geomorphology\"], [\"Petrogenesis\"], [\"Petrography\"], [\"Petroleum geology\"], [\"Petrology\"], [\"Photogeology\"], [\"Physical Geology\"], [\"Physical Oceanography\"], [\"Phytogeomorphology\"], [\"Planetary geology\"], [\"Planetary geomorphology\"], [\"Polar meteorology\"], [\"Precambrian Geology\"], [\"Quaternary Geology\"], [\"Quaternary Palynology\"], [\"Reflection seismology\"], [\"Refraction Seismology\"], [\"Remote Sensing\"], [\"Satellite Meteorology\"], [\"Sedimentary Petrology\"], [\"Sedimentology\"], [\"Seismology\"], [\"Sequence Stratigraphy\"], [\"Statistical hydrology / Stochastic Hydrology\"], [\"Stratigraphical palynology\"], [\"Stratigraphy\"], [\"Structural   Geology\"], [\"Submarine geomorphology\"], [\"Surface-water hydrology\"], [\"Tectonic geomorphology\"], [\"Tectonostratigraphy\"], [\"Tephrochronology\"], [\"Thermochronology\"], [\"Thorium Geology\"], [\"Tropical geomorphology\"], [\"Urban Hydrology\"], [\"Vertebrate Paleontology\"], [\"Volcanology\"], [\"Wetland Hydrology\"], [\"X-ray Crystallography\"]], \"hoverlabel\": {\"namelength\": 0}, \"hovertemplate\": \"x=%{x}<br>y=%{y}<br>title=%{customdata[0]}<br>color=%{marker.color}\", \"legendgroup\": \"\", \"marker\": {\"color\": [1, 4, 5, 2, 3, 5, 1, 6, 7, 5, 3, 7, 5, 5, 6, -1, 5, -1, 5, -1, 4, 5, 3, -1, 3, 5, 5, 6, 3, 5, 1, 2, 3, 5, 5, 6, 5, 1, 4, 5, 3, 5, 3, 5, 5, 5, -1, 7, -1, 6, 5, 3, 5, 6, 4, 3, 3, 5, 5, 6, 0, 3, 0, 0, 1, 5, 3, 3, 0, 3, 0, 5, 5, 5, 7, 1, 5, 5, 5, 5, 1, 2, 5, 1, 5, 5, 3, 6, 5, 5, 1, 7, 3, 3, 5, 2, 3, 4, 2, -1, 2, 3, -1, 3, 2, 6, 6, 5, 5, 5, 5, -1, 5, 7, 3, 5, 6, 4, 5, 5, 2, 3, 3, 6, 3, 5, 5, 5, 7, 0, 2, 5, 3, 6, 0, 6, 5, 5, 5, 5, 6, 0, 3, 5, 0, 3], \"coloraxis\": \"coloraxis\", \"symbol\": \"circle\"}, \"mode\": \"markers\", \"name\": \"\", \"showlegend\": false, \"type\": \"scatter\", \"x\": [5.248481273651123, 4.014834880828857, 2.090099334716797, 3.0515847206115723, -2.3895812034606934, 3.3244690895080566, 5.0241241455078125, 1.0519429445266724, -0.601671040058136, 4.3282036781311035, -2.465261220932007, -0.640936017036438, 3.942230224609375, 4.054132461547852, 1.1730785369873047, 3.9094057083129883, 2.1113855838775635, 0.1470475196838379, 3.516348123550415, 1.134847640991211, 4.037346839904785, 4.046955585479736, -1.5444839000701904, 1.2835676670074463, -1.8800619840621948, 2.080263614654541, 2.743661642074585, 0.9113536477088928, -1.4256808757781982, 2.4970757961273193, 5.080390930175781, 3.0498616695404053, -1.3621931076049805, 2.9179885387420654, 3.49462890625, 0.5119163990020752, 3.1662344932556152, 5.093947410583496, 3.464846134185791, 0.7580066323280334, 0.003501369385048747, 2.8236594200134277, -1.5544699430465698, 4.076826095581055, 2.249619483947754, 3.4679577350616455, 1.3255929946899414, -0.28329798579216003, 1.4010380506515503, 1.2431248426437378, 3.3930232524871826, -2.416646718978882, 2.725888967514038, 0.9147623777389526, 3.54526686668396, -1.2584856748580933, -2.496905565261841, 2.4641077518463135, 2.8713576793670654, 0.9469082951545715, 0.1953011006116867, -1.7253806591033936, 0.32448631525039673, 0.01987949013710022, 5.2454304695129395, 4.303585529327393, -0.9746409058570862, -2.060779571533203, -0.1003606915473938, -1.944629430770874, 0.2860237956047058, 4.141604423522949, 3.0398523807525635, 4.227498531341553, -0.3196163475513458, 5.332428455352783, 0.9472388625144958, 3.0961670875549316, 2.5634713172912598, 4.448816299438477, 5.109467506408691, 3.010159730911255, 3.1682417392730713, 5.173473834991455, 1.3779844045639038, 2.1264357566833496, -1.6206989288330078, 0.25676098465919495, 2.807701587677002, 2.96091365814209, 5.134494781494141, -0.7143186926841736, -1.4655876159667969, -2.283108949661255, 2.0288240909576416, 3.0061323642730713, -0.7232641577720642, 3.6898887157440186, 2.9041635990142822, 2.962458848953247, 2.993543863296509, -0.5501832365989685, 2.9175126552581787, -2.432553768157959, 2.9653067588806152, 0.3063284456729889, 1.2311615943908691, 4.523282051086426, 3.513136148452759, 3.2504637241363525, 4.357455730438232, 0.41541337966918945, 3.359441041946411, -0.6892099976539612, -2.017470121383667, 3.330949068069458, 0.6647381782531738, 3.629831075668335, 2.986555576324463, 2.307786464691162, 2.972996711730957, -2.556718349456787, -2.535344362258911, 1.5131596326828003, -1.198204517364502, 4.430159568786621, 4.068467617034912, 3.315321207046509, -0.14687639474868774, 0.056753091514110565, 2.9606640338897705, 4.176305294036865, -2.6367316246032715, 0.8422892093658447, 0.1229420080780983, 0.8632194399833679, 2.608506441116333, 4.017206192016602, 3.8119685649871826, 3.690671682357788, 1.2408676147460938, 0.07039233297109604, -0.6753062605857849, 3.2998549938201904, 0.03658970817923546, -2.5187265872955322], \"xaxis\": \"x\", \"y\": [11.168468475341797, 12.434782981872559, 14.606651306152344, 9.806136131286621, 14.485413551330566, 15.502556800842285, 11.373066902160645, 14.022282600402832, 12.845678329467773, 15.427915573120117, 14.79711627960205, 13.048293113708496, 15.517187118530273, 15.328080177307129, 13.551046371459961, 12.267151832580566, 14.333109855651855, 13.453510284423828, 15.63453197479248, 15.6755952835083, 12.611516952514648, 14.215066909790039, 14.638426780700684, 15.728955268859863, 14.331012725830078, 16.18758773803711, 15.80916690826416, 13.726211547851562, 15.01512336730957, 16.157100677490234, 11.263641357421875, 9.810649871826172, 15.211946487426758, 14.040843963623047, 15.34475326538086, 13.575875282287598, 14.064876556396484, 11.419450759887695, 12.472773551940918, 15.631598472595215, 14.642476081848145, 14.32854175567627, 14.921326637268066, 14.844346046447754, 14.450211524963379, 15.472232818603516, 12.591926574707031, 12.980680465698242, 12.758637428283691, 13.161832809448242, 14.451217651367188, 14.353795051574707, 14.875694274902344, 14.137758255004883, 13.155563354492188, 15.209013938903809, 14.582085609436035, 14.961155891418457, 15.6945161819458, 13.920893669128418, 11.568170547485352, 14.274436950683594, 11.5575532913208, 11.389748573303223, 11.322617530822754, 16.398967742919922, 15.2503080368042, 14.904075622558594, 11.292780876159668, 14.9921875, 11.587032318115234, 15.708353996276855, 15.088386535644531, 15.045914649963379, 13.04084300994873, 11.314553260803223, 15.511889457702637, 13.84303092956543, 16.058517456054688, 16.515981674194336, 11.545159339904785, 9.855510711669922, 16.03250503540039, 11.20555305480957, 15.83735466003418, 16.203750610351562, 15.14091968536377, 14.267885208129883, 14.663674354553223, 14.825308799743652, 11.256714820861816, 13.025945663452148, 15.104291915893555, 14.640100479125977, 16.091161727905273, 10.626673698425293, 14.972820281982422, 13.063965797424316, 10.869095802307129, 11.831779479980469, 10.540911674499512, 14.625364303588867, 11.420153617858887, 15.23568344116211, 9.909507751464844, 14.401578903198242, 13.582942008972168, 16.577333450317383, 16.11556053161621, 15.496734619140625, 16.411209106445312, 15.194283485412598, 15.598869323730469, 13.29011344909668, 14.186887741088867, 15.592926979064941, 14.053902626037598, 13.065943717956543, 14.709097862243652, 16.151809692382812, 9.904969215393066, 15.084270477294922, 14.922619819641113, 12.88012981414795, 14.818074226379395, 16.47960090637207, 15.964058876037598, 14.183417320251465, 13.17409610748291, 11.447800636291504, 9.898462295532227, 15.529519081115723, 14.563840866088867, 13.86785888671875, 11.247705459594727, 13.800288200378418, 15.10205364227295, 14.693803787231445, 14.982583999633789, 14.772937774658203, 13.665031433105469, 11.441165924072266, 15.389009475708008, 15.106634140014648, 11.56900691986084, 14.608412742614746], \"yaxis\": \"y\"}],\n",
              "                        {\"coloraxis\": {\"colorbar\": {\"title\": {\"text\": \"color\"}}, \"colorscale\": [[0.0, \"#0d0887\"], [0.1111111111111111, \"#46039f\"], [0.2222222222222222, \"#7201a8\"], [0.3333333333333333, \"#9c179e\"], [0.4444444444444444, \"#bd3786\"], [0.5555555555555556, \"#d8576b\"], [0.6666666666666666, \"#ed7953\"], [0.7777777777777778, \"#fb9f3a\"], [0.8888888888888888, \"#fdca26\"], [1.0, \"#f0f921\"]]}, \"height\": 800, \"legend\": {\"tracegroupgap\": 0}, \"margin\": {\"t\": 60}, \"template\": {\"data\": {\"bar\": [{\"error_x\": {\"color\": \"#2a3f5f\"}, \"error_y\": {\"color\": \"#2a3f5f\"}, \"marker\": {\"line\": {\"color\": \"#E5ECF6\", \"width\": 0.5}}, \"type\": \"bar\"}], \"barpolar\": [{\"marker\": {\"line\": {\"color\": \"#E5ECF6\", \"width\": 0.5}}, \"type\": \"barpolar\"}], \"carpet\": [{\"aaxis\": {\"endlinecolor\": \"#2a3f5f\", \"gridcolor\": \"white\", \"linecolor\": \"white\", \"minorgridcolor\": \"white\", \"startlinecolor\": \"#2a3f5f\"}, \"baxis\": {\"endlinecolor\": \"#2a3f5f\", \"gridcolor\": \"white\", \"linecolor\": \"white\", \"minorgridcolor\": \"white\", \"startlinecolor\": \"#2a3f5f\"}, \"type\": \"carpet\"}], \"choropleth\": [{\"colorbar\": {\"outlinewidth\": 0, \"ticks\": \"\"}, \"type\": \"choropleth\"}], \"contour\": [{\"colorbar\": {\"outlinewidth\": 0, \"ticks\": \"\"}, \"colorscale\": [[0.0, \"#0d0887\"], [0.1111111111111111, \"#46039f\"], [0.2222222222222222, \"#7201a8\"], [0.3333333333333333, \"#9c179e\"], [0.4444444444444444, \"#bd3786\"], [0.5555555555555556, \"#d8576b\"], [0.6666666666666666, \"#ed7953\"], [0.7777777777777778, \"#fb9f3a\"], [0.8888888888888888, \"#fdca26\"], [1.0, \"#f0f921\"]], \"type\": \"contour\"}], \"contourcarpet\": [{\"colorbar\": {\"outlinewidth\": 0, \"ticks\": \"\"}, \"type\": \"contourcarpet\"}], \"heatmap\": [{\"colorbar\": {\"outlinewidth\": 0, \"ticks\": \"\"}, \"colorscale\": [[0.0, \"#0d0887\"], [0.1111111111111111, \"#46039f\"], [0.2222222222222222, \"#7201a8\"], [0.3333333333333333, \"#9c179e\"], [0.4444444444444444, \"#bd3786\"], [0.5555555555555556, \"#d8576b\"], [0.6666666666666666, \"#ed7953\"], [0.7777777777777778, \"#fb9f3a\"], [0.8888888888888888, \"#fdca26\"], [1.0, \"#f0f921\"]], \"type\": \"heatmap\"}], \"heatmapgl\": [{\"colorbar\": {\"outlinewidth\": 0, \"ticks\": \"\"}, \"colorscale\": [[0.0, \"#0d0887\"], [0.1111111111111111, \"#46039f\"], [0.2222222222222222, \"#7201a8\"], [0.3333333333333333, \"#9c179e\"], [0.4444444444444444, \"#bd3786\"], [0.5555555555555556, \"#d8576b\"], [0.6666666666666666, \"#ed7953\"], [0.7777777777777778, \"#fb9f3a\"], [0.8888888888888888, \"#fdca26\"], [1.0, \"#f0f921\"]], \"type\": \"heatmapgl\"}], \"histogram\": [{\"marker\": {\"colorbar\": {\"outlinewidth\": 0, \"ticks\": \"\"}}, \"type\": \"histogram\"}], \"histogram2d\": [{\"colorbar\": {\"outlinewidth\": 0, \"ticks\": \"\"}, \"colorscale\": [[0.0, \"#0d0887\"], [0.1111111111111111, \"#46039f\"], [0.2222222222222222, \"#7201a8\"], [0.3333333333333333, \"#9c179e\"], [0.4444444444444444, \"#bd3786\"], [0.5555555555555556, \"#d8576b\"], [0.6666666666666666, \"#ed7953\"], [0.7777777777777778, \"#fb9f3a\"], [0.8888888888888888, \"#fdca26\"], [1.0, \"#f0f921\"]], \"type\": \"histogram2d\"}], \"histogram2dcontour\": [{\"colorbar\": {\"outlinewidth\": 0, \"ticks\": \"\"}, \"colorscale\": [[0.0, \"#0d0887\"], [0.1111111111111111, \"#46039f\"], [0.2222222222222222, \"#7201a8\"], [0.3333333333333333, \"#9c179e\"], [0.4444444444444444, \"#bd3786\"], [0.5555555555555556, \"#d8576b\"], [0.6666666666666666, \"#ed7953\"], [0.7777777777777778, \"#fb9f3a\"], [0.8888888888888888, \"#fdca26\"], [1.0, \"#f0f921\"]], \"type\": \"histogram2dcontour\"}], \"mesh3d\": [{\"colorbar\": {\"outlinewidth\": 0, \"ticks\": \"\"}, \"type\": \"mesh3d\"}], \"parcoords\": [{\"line\": {\"colorbar\": {\"outlinewidth\": 0, \"ticks\": \"\"}}, \"type\": \"parcoords\"}], \"pie\": [{\"automargin\": true, \"type\": \"pie\"}], \"scatter\": [{\"marker\": {\"colorbar\": {\"outlinewidth\": 0, \"ticks\": \"\"}}, \"type\": \"scatter\"}], \"scatter3d\": [{\"line\": {\"colorbar\": {\"outlinewidth\": 0, \"ticks\": \"\"}}, \"marker\": {\"colorbar\": {\"outlinewidth\": 0, \"ticks\": \"\"}}, \"type\": \"scatter3d\"}], \"scattercarpet\": [{\"marker\": {\"colorbar\": {\"outlinewidth\": 0, \"ticks\": \"\"}}, \"type\": \"scattercarpet\"}], \"scattergeo\": [{\"marker\": {\"colorbar\": {\"outlinewidth\": 0, \"ticks\": \"\"}}, \"type\": \"scattergeo\"}], \"scattergl\": [{\"marker\": {\"colorbar\": {\"outlinewidth\": 0, \"ticks\": \"\"}}, \"type\": \"scattergl\"}], \"scattermapbox\": [{\"marker\": {\"colorbar\": {\"outlinewidth\": 0, \"ticks\": \"\"}}, \"type\": \"scattermapbox\"}], \"scatterpolar\": [{\"marker\": {\"colorbar\": {\"outlinewidth\": 0, \"ticks\": \"\"}}, \"type\": \"scatterpolar\"}], \"scatterpolargl\": [{\"marker\": {\"colorbar\": {\"outlinewidth\": 0, \"ticks\": \"\"}}, \"type\": \"scatterpolargl\"}], \"scatterternary\": [{\"marker\": {\"colorbar\": {\"outlinewidth\": 0, \"ticks\": \"\"}}, \"type\": \"scatterternary\"}], \"surface\": [{\"colorbar\": {\"outlinewidth\": 0, \"ticks\": \"\"}, \"colorscale\": [[0.0, \"#0d0887\"], [0.1111111111111111, \"#46039f\"], [0.2222222222222222, \"#7201a8\"], [0.3333333333333333, \"#9c179e\"], [0.4444444444444444, \"#bd3786\"], [0.5555555555555556, \"#d8576b\"], [0.6666666666666666, \"#ed7953\"], [0.7777777777777778, \"#fb9f3a\"], [0.8888888888888888, \"#fdca26\"], [1.0, \"#f0f921\"]], \"type\": \"surface\"}], \"table\": [{\"cells\": {\"fill\": {\"color\": \"#EBF0F8\"}, \"line\": {\"color\": \"white\"}}, \"header\": {\"fill\": {\"color\": \"#C8D4E3\"}, \"line\": {\"color\": \"white\"}}, \"type\": \"table\"}]}, \"layout\": {\"annotationdefaults\": {\"arrowcolor\": \"#2a3f5f\", \"arrowhead\": 0, \"arrowwidth\": 1}, \"coloraxis\": {\"colorbar\": {\"outlinewidth\": 0, \"ticks\": \"\"}}, \"colorscale\": {\"diverging\": [[0, \"#8e0152\"], [0.1, \"#c51b7d\"], [0.2, \"#de77ae\"], [0.3, \"#f1b6da\"], [0.4, \"#fde0ef\"], [0.5, \"#f7f7f7\"], [0.6, \"#e6f5d0\"], [0.7, \"#b8e186\"], [0.8, \"#7fbc41\"], [0.9, \"#4d9221\"], [1, \"#276419\"]], \"sequential\": [[0.0, \"#0d0887\"], [0.1111111111111111, \"#46039f\"], [0.2222222222222222, \"#7201a8\"], [0.3333333333333333, \"#9c179e\"], [0.4444444444444444, \"#bd3786\"], [0.5555555555555556, \"#d8576b\"], [0.6666666666666666, \"#ed7953\"], [0.7777777777777778, \"#fb9f3a\"], [0.8888888888888888, \"#fdca26\"], [1.0, \"#f0f921\"]], \"sequentialminus\": [[0.0, \"#0d0887\"], [0.1111111111111111, \"#46039f\"], [0.2222222222222222, \"#7201a8\"], [0.3333333333333333, \"#9c179e\"], [0.4444444444444444, \"#bd3786\"], [0.5555555555555556, \"#d8576b\"], [0.6666666666666666, \"#ed7953\"], [0.7777777777777778, \"#fb9f3a\"], [0.8888888888888888, \"#fdca26\"], [1.0, \"#f0f921\"]]}, \"colorway\": [\"#636efa\", \"#EF553B\", \"#00cc96\", \"#ab63fa\", \"#FFA15A\", \"#19d3f3\", \"#FF6692\", \"#B6E880\", \"#FF97FF\", \"#FECB52\"], \"font\": {\"color\": \"#2a3f5f\"}, \"geo\": {\"bgcolor\": \"white\", \"lakecolor\": \"white\", \"landcolor\": \"#E5ECF6\", \"showlakes\": true, \"showland\": true, \"subunitcolor\": \"white\"}, \"hoverlabel\": {\"align\": \"left\"}, \"hovermode\": \"closest\", \"mapbox\": {\"style\": \"light\"}, \"paper_bgcolor\": \"white\", \"plot_bgcolor\": \"#E5ECF6\", \"polar\": {\"angularaxis\": {\"gridcolor\": \"white\", \"linecolor\": \"white\", \"ticks\": \"\"}, \"bgcolor\": \"#E5ECF6\", \"radialaxis\": {\"gridcolor\": \"white\", \"linecolor\": \"white\", \"ticks\": \"\"}}, \"scene\": {\"xaxis\": {\"backgroundcolor\": \"#E5ECF6\", \"gridcolor\": \"white\", \"gridwidth\": 2, \"linecolor\": \"white\", \"showbackground\": true, \"ticks\": \"\", \"zerolinecolor\": \"white\"}, \"yaxis\": {\"backgroundcolor\": \"#E5ECF6\", \"gridcolor\": \"white\", \"gridwidth\": 2, \"linecolor\": \"white\", \"showbackground\": true, \"ticks\": \"\", \"zerolinecolor\": \"white\"}, \"zaxis\": {\"backgroundcolor\": \"#E5ECF6\", \"gridcolor\": \"white\", \"gridwidth\": 2, \"linecolor\": \"white\", \"showbackground\": true, \"ticks\": \"\", \"zerolinecolor\": \"white\"}}, \"shapedefaults\": {\"line\": {\"color\": \"#2a3f5f\"}}, \"ternary\": {\"aaxis\": {\"gridcolor\": \"white\", \"linecolor\": \"white\", \"ticks\": \"\"}, \"baxis\": {\"gridcolor\": \"white\", \"linecolor\": \"white\", \"ticks\": \"\"}, \"bgcolor\": \"#E5ECF6\", \"caxis\": {\"gridcolor\": \"white\", \"linecolor\": \"white\", \"ticks\": \"\"}}, \"title\": {\"x\": 0.05}, \"xaxis\": {\"automargin\": true, \"gridcolor\": \"white\", \"linecolor\": \"white\", \"ticks\": \"\", \"title\": {\"standoff\": 15}, \"zerolinecolor\": \"white\", \"zerolinewidth\": 2}, \"yaxis\": {\"automargin\": true, \"gridcolor\": \"white\", \"linecolor\": \"white\", \"ticks\": \"\", \"title\": {\"standoff\": 15}, \"zerolinecolor\": \"white\", \"zerolinewidth\": 2}}}, \"width\": 800, \"xaxis\": {\"anchor\": \"y\", \"domain\": [0.0, 1.0], \"title\": {\"text\": \"x\"}}, \"yaxis\": {\"anchor\": \"x\", \"domain\": [0.0, 1.0], \"title\": {\"text\": \"y\"}}},\n",
              "                        {\"responsive\": true}\n",
              "                    ).then(function(){\n",
              "                            \n",
              "var gd = document.getElementById('9a3a8591-2f96-4e6b-b8dd-2f7142ddbae1');\n",
              "var x = new MutationObserver(function (mutations, observer) {{\n",
              "        var display = window.getComputedStyle(gd).display;\n",
              "        if (!display || display === 'none') {{\n",
              "            console.log([gd, 'removed!']);\n",
              "            Plotly.purge(gd);\n",
              "            observer.disconnect();\n",
              "        }}\n",
              "}});\n",
              "\n",
              "// Listen for the removal of the full notebook cells\n",
              "var notebookContainer = gd.closest('#notebook-container');\n",
              "if (notebookContainer) {{\n",
              "    x.observe(notebookContainer, {childList: true});\n",
              "}}\n",
              "\n",
              "// Listen for the clearing of the current output cell\n",
              "var outputEl = gd.closest('.output');\n",
              "if (outputEl) {{\n",
              "    x.observe(outputEl, {childList: true});\n",
              "}}\n",
              "\n",
              "                        })\n",
              "                };\n",
              "                \n",
              "            </script>\n",
              "        </div>\n",
              "</body>\n",
              "</html>"
            ]
          },
          "metadata": {
            "tags": []
          }
        }
      ]
    },
    {
      "cell_type": "code",
      "metadata": {
        "id": "2G7pSMxpch9L",
        "outputId": "f07cf6f0-0cce-41d2-db5b-67c63c7106c7",
        "colab": {
          "base_uri": "https://localhost:8080/",
          "height": 34
        }
      },
      "source": [
        "3"
      ],
      "execution_count": null,
      "outputs": [
        {
          "output_type": "execute_result",
          "data": {
            "text/plain": [
              "3"
            ]
          },
          "metadata": {
            "tags": []
          },
          "execution_count": 14
        }
      ]
    }
  ]
}