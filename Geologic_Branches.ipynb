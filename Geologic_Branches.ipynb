{
  "nbformat": 4,
  "nbformat_minor": 0,
  "metadata": {
    "colab": {
      "name": "Geologic_Branches.ipynb",
      "provenance": [],
      "collapsed_sections": [],
      "mount_file_id": "1oou4icszVwg7ybTmZ1_NGt_zZ6p0N2GQ",
      "authorship_tag": "ABX9TyMqrRBDG54VA1eQcJMIFNf3",
      "include_colab_link": true
    },
    "kernelspec": {
      "name": "python3",
      "display_name": "Python 3"
    }
  },
  "cells": [
    {
      "cell_type": "markdown",
      "metadata": {
        "id": "view-in-github",
        "colab_type": "text"
      },
      "source": [
        "<a href=\"https://colab.research.google.com/github/noahkarsky/Geoscience_Disciplines/blob/master/Geologic_Branches.ipynb\" target=\"_parent\"><img src=\"https://colab.research.google.com/assets/colab-badge.svg\" alt=\"Open In Colab\"/></a>"
      ]
    },
    {
      "cell_type": "code",
      "metadata": {
        "id": "rnTUpYXc1udt",
        "outputId": "89b3462f-6175-4d68-fa22-67d8bbffae92",
        "colab": {
          "base_uri": "https://localhost:8080/",
          "height": 294
        }
      },
      "source": [
        "pip install wikipedia"
      ],
      "execution_count": null,
      "outputs": [
        {
          "output_type": "stream",
          "text": [
            "Collecting wikipedia\n",
            "  Downloading https://files.pythonhosted.org/packages/67/35/25e68fbc99e672127cc6fbb14b8ec1ba3dfef035bf1e4c90f78f24a80b7d/wikipedia-1.4.0.tar.gz\n",
            "Requirement already satisfied: beautifulsoup4 in /usr/local/lib/python3.6/dist-packages (from wikipedia) (4.6.3)\n",
            "Requirement already satisfied: requests<3.0.0,>=2.0.0 in /usr/local/lib/python3.6/dist-packages (from wikipedia) (2.23.0)\n",
            "Requirement already satisfied: idna<3,>=2.5 in /usr/local/lib/python3.6/dist-packages (from requests<3.0.0,>=2.0.0->wikipedia) (2.10)\n",
            "Requirement already satisfied: chardet<4,>=3.0.2 in /usr/local/lib/python3.6/dist-packages (from requests<3.0.0,>=2.0.0->wikipedia) (3.0.4)\n",
            "Requirement already satisfied: certifi>=2017.4.17 in /usr/local/lib/python3.6/dist-packages (from requests<3.0.0,>=2.0.0->wikipedia) (2020.6.20)\n",
            "Requirement already satisfied: urllib3!=1.25.0,!=1.25.1,<1.26,>=1.21.1 in /usr/local/lib/python3.6/dist-packages (from requests<3.0.0,>=2.0.0->wikipedia) (1.24.3)\n",
            "Building wheels for collected packages: wikipedia\n",
            "  Building wheel for wikipedia (setup.py) ... \u001b[?25l\u001b[?25hdone\n",
            "  Created wheel for wikipedia: filename=wikipedia-1.4.0-cp36-none-any.whl size=11686 sha256=1543471b47a1ce65dabb76ecf593903ecec6245fec51220a7edbbcf70971048c\n",
            "  Stored in directory: /root/.cache/pip/wheels/87/2a/18/4e471fd96d12114d16fe4a446d00c3b38fb9efcb744bd31f4a\n",
            "Successfully built wikipedia\n",
            "Installing collected packages: wikipedia\n",
            "Successfully installed wikipedia-1.4.0\n"
          ],
          "name": "stdout"
        }
      ]
    },
    {
      "cell_type": "code",
      "metadata": {
        "id": "kTl0cVmY0ca1"
      },
      "source": [
        "import pandas as pd\n",
        "import re\n",
        "import wikipedia\n",
        "import nltk\n",
        "from nltk.corpus import stopwords \n",
        "from nltk.tokenize import word_tokenize \n",
        "import time\n",
        "import numpy as np"
      ],
      "execution_count": null,
      "outputs": []
    },
    {
      "cell_type": "code",
      "metadata": {
        "id": "cDBu2xJytTbT",
        "outputId": "050184c4-75b8-4ffb-9bdc-43e858e61dbc",
        "colab": {
          "base_uri": "https://localhost:8080/",
          "height": 88
        }
      },
      "source": [
        "#downloading stopwords for use later on\n",
        "nltk.download('stopwords')"
      ],
      "execution_count": null,
      "outputs": [
        {
          "output_type": "stream",
          "text": [
            "[nltk_data] Downloading package stopwords to /root/nltk_data...\n",
            "[nltk_data]   Unzipping corpora/stopwords.zip.\n"
          ],
          "name": "stdout"
        },
        {
          "output_type": "execute_result",
          "data": {
            "text/plain": [
              "True"
            ]
          },
          "metadata": {
            "tags": []
          },
          "execution_count": 3
        }
      ]
    },
    {
      "cell_type": "code",
      "metadata": {
        "id": "rMId8yBF0fy5"
      },
      "source": [
        "df = pd.read_table(\"/content/drive/My Drive/DataStuff/Geo_Branches/Studies_of_geo_list.txt\",header=None)\n",
        "df.columns = ['geology_discipline']"
      ],
      "execution_count": null,
      "outputs": []
    },
    {
      "cell_type": "code",
      "metadata": {
        "id": "M_FES1oF0s9k"
      },
      "source": [
        "df['geology_discipline'] =df.geology_discipline.str.split('.').str[1]\n",
        "df['geology_discipline'] =df.geology_discipline.str.strip()\n",
        "df.dropna(inplace=True)"
      ],
      "execution_count": null,
      "outputs": []
    },
    {
      "cell_type": "markdown",
      "metadata": {
        "id": "39gWOklOsue6"
      },
      "source": [
        "Lets try a sample search for one of the geologic disciplines to see how it all works"
      ]
    },
    {
      "cell_type": "code",
      "metadata": {
        "id": "g9OW25NL5Iry",
        "outputId": "63be0768-298d-4e94-f369-3c0a9833cbc0",
        "colab": {
          "base_uri": "https://localhost:8080/",
          "height": 33
        }
      },
      "source": [
        "test = df.iloc[5][0]\n",
        "print(test)"
      ],
      "execution_count": null,
      "outputs": [
        {
          "output_type": "stream",
          "text": [
            "Tropical geomorphology\n"
          ],
          "name": "stdout"
        }
      ]
    },
    {
      "cell_type": "code",
      "metadata": {
        "id": "xGplJWq05HFF",
        "outputId": "4c40229e-3cda-45ea-c02d-018ae5fed17b",
        "colab": {
          "base_uri": "https://localhost:8080/",
          "height": 703
        }
      },
      "source": [
        "p = wikipedia.page(test)\n",
        "print(p.url)\n",
        "print(p.title)\n",
        "content = p.content # Content of page.\n",
        "print(content)"
      ],
      "execution_count": null,
      "outputs": [
        {
          "output_type": "stream",
          "text": [
            "https://en.wikipedia.org/wiki/Climatic_geomorphology\n",
            "Climatic geomorphology\n",
            "Climatic geomorphology is the study of the role of climate in shaping landforms and the earth-surface processes. An approach used in climatic geomorphology is to study relict landforms to infer ancient climates. Being often concerned about past climates climatic geomorphology considered sometimes to be an aspect of historical geology. Since landscape features in one region might have evolved under climates different from those of the present, studying climatically disparate regions might help understand present-day landscapes. For example, Julius Büdel studied both cold-climate processes in Svalbard and weathering processes in tropical India to understand the origin of the relief of Central Europe, which he argued was a palimpsest of landforms formed at different times and under different climates.\n",
            "\n",
            "\n",
            "== Sub-disciplines ==\n",
            "The various subbranches of climatic geomorphology focus on specific climatic environments. \n",
            "\n",
            "\n",
            "=== Desert geomorphology ===\n",
            "Desert geomorphology or the geomorphology of arid and semi-arid lands shares many landsforms and processes with more humid regions. One distinctive feature is the sparse or lacking vegetation cover, which influences fluvial and slope processes, related to wind and salt activity. Early work on desert geomorphology was done by Western explorers of the colonies of their respective countries in Africa (French West Africa, German South West Africa, Western Egypt), in frontier regions of their own countries (American West, Australian Outback) or in the deserts of foreign countries such as the Ottoman Empire, the Russian Empire and China. Since the 1970s desert geomorphology in Earth has served to find analogues to Martian landscapes.\n",
            "\n",
            "\n",
            "=== Periglacial geomorphology ===\n",
            "\n",
            "As a discipline periglacial geomorphology is close but different to Quaternary science and geocryology. Periglacial geomorphology is concerned with non-glacial cold-climate landforms in areas with and without permafrost.\n",
            "Albeit the definition of what a periglacial zone is not clear-cut a conservative estimate is that a quarter of Earth's land surface has periglacial conditions. Beyond this quarter an additional quarter or fifth or Earth's land surface had periglacial conditions at some time during the Pleistocene. In periglacial geomorphology noted researchers include Johan Gunnar Andersson, Walery Łoziński, Anders Rapp and Jean Tricart.\n",
            "\n",
            "\n",
            "=== Tropical geomorphology ===\n",
            "If the tropics is defined as the area between 35° N and 35° S, then about 60% of Earth's surface lies within this zone. During most of the 20th century tropical geomorphology was neglected due to a bias towards temperate climates, and when dealt with it was highlighted as \"exotic\". Tropical geomorphology do mainly differ from other areas in the intensities and rates at which surface processes operate, and not by the type of processes. The tropics are characterized by particular climates, that may be dry or humid. Relative to temperate zones the tropics contain areas of high temperatures, high rainfall intensities and high evapotranspiration all of which are climatic features relevant for surface processes. Another characteristic, that is not related to present-day climate per se, is that a large portion of the tropics have a low relief which was inherited from the continent of Gondwana. Julius Büdel, Pierre Birot and Jean Tricart have suggested that tropical rivers are dominated by fine-grained suspended load derived from advanced chemical weathering, and this would make them less erosive than rivers elsewhere. Some landforms previously thought as typically tropical like bornhardts are more related to lithology and rock structure than climate.\n",
            "\n",
            "\n",
            "== Morphoclimatic zones ==\n",
            "\n",
            "Climatic geomorphologists have devised various schemes that divide Earth's surface into various morphoclimatic zones; that is, zones where landforms are associated to present or past climates. However, only some processes and landforms can be associated with particular climates, meaning that they are zonal; processes and landforms not associated with particular climates are labelled azonal. Despite this, azonal processes and landforms might still take on particular characteristics when developing under the influence of particular climates. When identified, morphoclimatic zones do usually lack sharp boundaries and tend to grade from one type to another resulting in that only the core of the zone has all expected attributes. Influential morphoclimatic zoning schemes are those of Julius Büdel (1948, 1963, 1977) and of Jean Tricart and André Cailleux (1965). Büdel's schemes stresses planation and valley-cutting in relation to climate, arguing the valley-cutting is dominant in subpolar regions while planation is so in the tropics. As such this scheme is concerned not only with processes but also with end-products of geomorphic activity. The scheme of Tricart and Cailleux emphasizes the relationship between geomorphology, climate and vegetation. An early attempt at morphoclimatic zoning is that of Albrecht Penck in 1910, who divided Earth in three zones depending on the evaporation-precipitation ratios.A 1994 review argues that only the concepts of desert, glacial, periglacial and a few coastal morphoclimatic zones are justified. These zones amounts to about half of Earth's land surface, the remaining half cannot be explained in simple terms by climate-landform interactions. The limitations of morphoclimatic zoning were already discussed by Siegfried Passarge in 1926 who considered vegetation and the extent of weathered material as having more direct impact than climate in many parts of the World. According to M.A. Summerfield large-scale zoning of the relief of Earth's surface is better explained on the basis of plate tectonics than on climate. An example of this are the Scandinavian Mountains whose plateau areas and valleys relate to the history of uplift and not to climate.Piotr Migoń has questioned the validity of certain morphoclimatic zonation schemes since they are named after processes, like planation, that might not occurring at all in large swathes of the zone. Referring to the 1977 scheme of Büdel Migoń states:\n",
            "Is it really helpful to have the Volcanic Cordillera of Mexico, coastal ranges of southeast Brazil, plains of East Africa, the escarpments  of  Western  Ghats  and  the mountains  of  Taiwan  in  the  same  zone, labelled as the ‘peritropical zone of excessive planation’?\n",
            "\n",
            "\n",
            "== Historical development ==\n",
            "During the age of New Imperialism in the late 19th century European explorers and scientists traveled across the globe bringing descriptions of landscapes and landforms. As geographical knowledge increased over time these observations were systematized in a search for regional patterns. Climate emerged thus as prime factor for explaining landform distribution at a grand scale. The rise of climatic geomorphology was foreshadowed by the work of Wladimir Köppen, Vasily Dokuchaev and Andreas Schimper. William Morris Davis, the leading geomorphologist of his time, recognized the role of climate by complementing his \"normal\" temperate climate cycle of erosion with arid and glacial ones. Nevertheless, interest in climatic geomorphology was also a reaction against Davisian geomorphology that was by the mid-20th century considered both un-innovative and dubious. Early climatic geomorphology developed primarily in continental Europe, chiefly France and Germany. The discipline emerged in the 1940s with works of Carl Troll, Emmanuel de Martonne, Pierre Birot and Julius Büdel. Likely it was Büdel who coined the term \"climatic geomorphology\". In the English-speaking world the tendency was not explicit until L.C. Peltier's 1950 publication on a periglacial cycle of erosion. This was however an isolated work whose theme was not followed up by other English-language authors.In 1968 came the first English translation of the \"continental system\" of climatic geomorphology. The following year climatic geomorphology was criticized in a 1969 review article by process geomorphologist D.R. Stoddart. The criticism by Stoddart proved \"devastating\" sparking a decline in the popularity of climatic geomorphology in the late 20th century. Stoddart criticized climatic geomorphology for applying supposedly \"trivial\" methodologies in establishing landform differences between morphoclimatic zones, being linked to Davisian geomorphology and by allegedly neglecting the fact that physical laws governing processes are the same across the globe. In addition some conceptions of climatic geomorphology, like that which holds that chemical weathering is more rapid in tropical climates than in cold climates proved to not be straightforwardly true.Despite having diminished in importance, climatic geomorphology continues to exist as a field of study producing relevant research. More recently, concerns over global warming have led to a renewed interest in the field.\n",
            "\n",
            "\n",
            "== Notes ==\n",
            "\n",
            "\n",
            "== References ==\n",
            "\n",
            "BibliographyFrench, Hugh M. (2007). The Periglacial Environment (3rd ed.). John Wiley & Sons Ltd. pp. 458. ISBN 978-0-470-86588-0.\n",
            "Goudie, Andrew S. (2013). Arid and Semi-Arid Geomorphology. Cambridge University Press. p. 454. ISBN 978-1-107-00554-9.\n",
            "Gupta, Avijit (2011). \"Introduction\". Tropical Geomorphology. Cambridge University Press. pp. 394. ISBN 978-0-521-87990-3.\n"
          ],
          "name": "stdout"
        }
      ]
    },
    {
      "cell_type": "markdown",
      "metadata": {
        "id": "OYJi4GiCtKwt"
      },
      "source": [
        "Pretty strightforward, lets clean it up a bit and use nltk to remove stop words"
      ]
    },
    {
      "cell_type": "code",
      "metadata": {
        "id": "D1X25KvB6hCD"
      },
      "source": [
        "text = re.sub(r'==.*?==+', '', content)\n",
        "text = text.replace('\\n', '')\n",
        "text = text.split(' ') # at this point we dont really care about it being formatted and human read-able, we only want the key words so we can make comparisons"
      ],
      "execution_count": null,
      "outputs": []
    },
    {
      "cell_type": "code",
      "metadata": {
        "id": "Pb4CN7408M7L"
      },
      "source": [
        "filtered_text = [w for w in text if not w in stopwords.words('english')]"
      ],
      "execution_count": null,
      "outputs": []
    },
    {
      "cell_type": "markdown",
      "metadata": {
        "id": "lFRw3GVXuEJn"
      },
      "source": [
        "Of course there is probably more work we can do to grab only the most relevant information for each subset of geology, but this will do for now"
      ]
    },
    {
      "cell_type": "code",
      "metadata": {
        "id": "HID3YUW1udcE"
      },
      "source": [
        "def get_content(geo_discipline):\n",
        "  \"\"\" this function will grab the content of a wikipedia page and store it\"\"\"\n",
        "  p = wikipedia.page(geo_discipline)\n",
        "  contents = p.content\n",
        "  text = re.sub(r'==.*?==+', '', contents).replace('\\n', '').split(' ') # \n",
        "  filtered_text = [w for w in text if not w in stopwords.words('english')] # removing stopwords\n",
        "  return filtered_text\n"
      ],
      "execution_count": null,
      "outputs": []
    },
    {
      "cell_type": "code",
      "metadata": {
        "id": "E79k8NpOF1Qo"
      },
      "source": [
        "_df_test = df.9iloc[4:9,:]"
      ],
      "execution_count": null,
      "outputs": []
    },
    {
      "cell_type": "code",
      "metadata": {
        "id": "kagkrQE_flxS"
      },
      "source": [
        "test_df = pd.DataFrame(columns = ['discipline','list'])"
      ],
      "execution_count": null,
      "outputs": []
    },
    {
      "cell_type": "code",
      "metadata": {
        "id": "wPRjsNbXtgTw",
        "outputId": "d34a9ac5-b547-4f55-bcd0-b6b7bfd43fb8",
        "colab": {
          "base_uri": "https://localhost:8080/",
          "height": 98
        }
      },
      "source": [
        "for item in _df_test.to_numpy(dtype=str):\n",
        "  print(item[0])"
      ],
      "execution_count": null,
      "outputs": [
        {
          "output_type": "stream",
          "text": [
            "Climatic Geomorphology\n",
            "Tropical geomorphology\n",
            "Glacial geomorphology\n",
            "Periglacial Geomorphology\n",
            "Geocryology\n"
          ],
          "name": "stdout"
        }
      ]
    },
    {
      "cell_type": "code",
      "metadata": {
        "id": "EvNvxrfhGXEW",
        "outputId": "0a9d2e35-79fe-4514-b821-9de1d56142e7",
        "colab": {
          "base_uri": "https://localhost:8080/",
          "height": 98
        }
      },
      "source": [
        "content_df = pd.DataFrame()\n",
        "for item in _df_test.values:\n",
        "  print(item)\n",
        "  content_data = get_content(item)\n",
        "  content_data_df = pd.DataFrame(np.array(content_data))\n",
        "  content_data_df['discipline'] = item[0]\n",
        "  content_df = content_df.append(content_data_df)\n",
        "  time.sleep(3)"
      ],
      "execution_count": null,
      "outputs": [
        {
          "output_type": "stream",
          "text": [
            "['Climatic Geomorphology']\n",
            "['Tropical geomorphology']\n",
            "['Glacial geomorphology']\n",
            "['Periglacial Geomorphology']\n",
            "['Geocryology']\n"
          ],
          "name": "stdout"
        }
      ]
    },
    {
      "cell_type": "code",
      "metadata": {
        "id": "F0wdRnAWUOTd"
      },
      "source": [
        ""
      ],
      "execution_count": null,
      "outputs": []
    },
    {
      "cell_type": "code",
      "metadata": {
        "id": "8F06PkhPGtLU",
        "outputId": "e4c9d40d-ba3c-4996-9e21-ea7e0718778d",
        "colab": {
          "base_uri": "https://localhost:8080/",
          "height": 1000
        }
      },
      "source": [
        "content_df = pd.DataFrame()\n",
        "no_wiki_page = []\n",
        "for item in df.values:\n",
        "  print(item)\n",
        "  try:\n",
        "    content_data = get_content(item)\n",
        "    content_data_df = pd.DataFrame(np.array(content_data))\n",
        "    content_data_df['discipline'] = item[0]\n",
        "    content_df = content_df.append(content_data_df)\n",
        "    time.sleep(3)\n",
        "  except:\n",
        "    print('oops' + item[0])\n",
        "    pass\n"
      ],
      "execution_count": null,
      "outputs": [
        {
          "output_type": "stream",
          "text": [
            "['Physical Geology']\n",
            "['Historical geology']\n",
            "['Fluvial Geomorphology']\n",
            "['Coastal Geomorphology']\n",
            "['Climatic Geomorphology']\n",
            "['Tropical geomorphology']\n",
            "['Glacial geomorphology']\n",
            "['Periglacial Geomorphology']\n",
            "['Geocryology']\n",
            "['Tectonic geomorphology']\n",
            "['Submarine geomorphology']\n",
            "['Planetary geomorphology']\n",
            "['Geomorphometry']\n",
            "['Human geomorphology']\n",
            "['Applied geomorphology']\n",
            "['Biogeomorphology and Ecogeomorphology']\n",
            "['Phytogeomorphology']\n",
            "['Engineering geomorphology']\n",
            "['Paleontology or Palaeontology']\n",
            "['Invertebrate Paleontology']\n",
            "['Vertebrate Paleontology']\n",
            "['Micropaleontology']\n",
            "['Palynology']\n",
            "['Stratigraphical palynology']\n",
            "['Quaternary Palynology']\n",
            "['Archaeological Palynology']\n",
            "['Environmental Palynology']\n",
            "['Paleobotany']\n",
            "['Paleoecology']\n",
            "['Palaeogeography']\n",
            "['Crystallography']\n",
            "['X-ray Crystallography']\n",
            "['Mineralogy']\n",
            "['Descriptive mineralogy']\n",
            "['Optical Mineralogy']\n",
            "['Petrology']\n",
            "['Petrogenesis']\n",
            "['Petrography']\n",
            "['Igneous Petrology']\n",
            "['Sedimentary Petrology']\n",
            "['Metamorphic Petrology']\n",
            "['Structural   Geology']\n",
            "['Economic Geology']\n",
            "['Ore Geology']\n",
            "['Petroleum geology']\n",
            "['Coal geology']\n",
            "['Stratigraphy']\n",
            "['Biostratigraphy:']\n",
            "['Lithostratigraphy']\n",
            "['Chronostratigraphy']\n",
            "['Magnetostratigraphy']\n",
            "['Tectonostratigraphy']\n",
            "['Chemostratigraphy']\n",
            "['Sequence Stratigraphy']\n",
            "['Cyclostratigraphy']\n",
            "['Geochemistry']\n",
            "['Isotope geochemistry']\n",
            "['Isotope Geology']\n",
            "['Geochronology']\n",
            "['Thorium Geology']\n",
            "['Dendrochronology']\n",
            "['Thermochronology']\n",
            "['Tephrochronology']\n",
            "['Volcanology']\n",
            "['Geophysics']\n",
            "['Exploration Geophysics']\n",
            "['Seismology']\n",
            "['Paleoseismology']\n",
            "['Reflection seismology']\n",
            "['Refraction Seismology']\n",
            "['Forensic Seismology']\n",
            "['Helioseismology']\n",
            "['Asteroseismology']\n",
            "['Meteorology']\n",
            "['Aviation meteorology']\n",
            "['Hydrometeorology']\n",
            "['Agricultural Meteorology']\n",
            "['Nuclear Meteorology']\n",
            "['Maritime Meteorology']\n",
            "['Military Meteorology']\n",
            "['Environmental Meteorology']\n",
            "['Satellite Meteorology']\n",
            "['Forensic meteorology']\n",
            "['Polar meteorology']\n",
            "['Climatolog']\n",
            "['Applied Climatology']\n",
            "['Paleoclimatology']\n",
            "['Dendroclimatology']\n",
            "['Hydrology']\n",
            "['Hydrogeology /Geohydrology']\n",
            "['Surface-water hydrology']\n",
            "['Isotope Hydrology']\n",
            "['Forest hydrology']\n",
            "['Urban Hydrology']\n",
            "['Wetland Hydrology']\n",
            "['Ecohydrology']\n",
            "['Statistical hydrology / Stochastic Hydrology']\n",
            "['Hydroinformatics']\n",
            "['Oceanography']\n",
            "['Physical Oceanography']\n",
            "['Geological Oceanography']\n",
            "['Biological Oceanography']\n",
            "['Chemical Oceanography']\n",
            "['Palaeooceanography']\n",
            "oopsPalaeooceanography\n",
            "['Paleopedology']\n",
            "['Paleophycology']\n",
            "['Sedimentology']\n",
            "['Marine Geology']\n",
            "['Mining Geology']\n",
            "['Engineering Geology']\n",
            "['Planetary geology']\n",
            "['Geotectonics']\n",
            "['Neotectonics']\n",
            "['Quaternary Geology']\n",
            "['Geoarchaeology']\n",
            "['Himalayan geology']\n",
            "['Cosmogony']\n",
            "['Nuclear Geophysics']\n",
            "['Photogeology']\n",
            "['Remote Sensing']\n",
            "['Environmental Geology']\n",
            "['Ceramography']\n",
            "['Limnology']\n",
            "['Paleolimnology']\n",
            "['Hydrobiology']\n",
            "['Sedimentology']\n",
            "['Geoinformatics']\n",
            "['Geomatics']\n",
            "['Gemology or gemmology']\n",
            "['Pedology']\n",
            "['Ore Dressing and Metallurgy']\n",
            "['Materials Science']\n",
            "['Nanogeoscience']\n",
            "['Medical Geology']\n",
            "['Geochemical Prospecting']\n",
            "['Exploration Geochemistry']\n",
            "['Field Geology']\n",
            "['Gondwana Geology']\n",
            "['Precambrian Geology']\n",
            "['Military Geology']\n",
            "['Astrogeology']\n",
            "['Geodynamics']\n",
            "['Modern Isotope Geochemistry']\n",
            "['Geostatistics']\n",
            "['Mathematical Geology']\n",
            "['Environmental Geochemistry']\n",
            "['Glaciology']\n",
            "['Lunar Geology']\n"
          ],
          "name": "stdout"
        }
      ]
    },
    {
      "cell_type": "code",
      "metadata": {
        "id": "Q7KjkUeAGbmU"
      },
      "source": [
        "content_df.to_csv(\"/content/drive/My Drive/DataStuff/Geo_Branches/Parsed_wiki_data.csv\")"
      ],
      "execution_count": null,
      "outputs": []
    },
    {
      "cell_type": "code",
      "metadata": {
        "id": "yEJEctvExp5J"
      },
      "source": [
        ""
      ],
      "execution_count": null,
      "outputs": []
    }
  ]
}